{
 "cells": [
  {
   "cell_type": "code",
   "execution_count": 1,
   "metadata": {},
   "outputs": [],
   "source": [
    "%load_ext autoreload\n",
    "%autoreload 2"
   ]
  },
  {
   "cell_type": "code",
   "execution_count": 2,
   "metadata": {},
   "outputs": [],
   "source": [
    "from scombi_do.app import main\n",
    "import gdal\n",
    "import os\n",
    "from urllib.parse import urlparse\n",
    "import requests\n",
    "from requests.auth import HTTPBasicAuth\n",
    "from pystac import STAC_IO, read_file, Catalog, CatalogType, Item, Catalog\n",
    "from ipyleaflet import Map, ImageOverlay\n",
    "import numpy as np\n",
    "from PIL import Image\n",
    "from io import BytesIO\n",
    "from base64 import b64encode\n",
    "from shapely.geometry import shape"
   ]
  },
  {
   "cell_type": "markdown",
   "metadata": {},
   "source": [
    "### Stage the STAC catalogs"
   ]
  },
  {
   "cell_type": "code",
   "execution_count": 3,
   "metadata": {},
   "outputs": [],
   "source": [
    "def my_read_method(uri):\n",
    "    \n",
    "    parsed = urlparse(uri)\n",
    "    \n",
    "    if parsed.scheme.startswith('http'):\n",
    "    \n",
    "        if os.environ.get('STAGEIN_PASSWORD') is None:\n",
    "            \n",
    "            return requests.get(uri).text\n",
    "            \n",
    "        else:\n",
    "            \n",
    "            return requests.get(uri, \n",
    "                                auth=HTTPBasicAuth(os.environ.get('STAGEIN_USERNAME'), \n",
    "                                                   os.environ.get('STAGEIN_PASSWORD'))\n",
    "                               ).text\n",
    "    else:\n",
    "        return STAC_IO.default_read_text_method(uri)\n"
   ]
  },
  {
   "cell_type": "code",
   "execution_count": 4,
   "metadata": {},
   "outputs": [],
   "source": [
    "input_references = ['https://terradue-rtd.gitlab.io/sentinel-s2-l2a-cogs/53/H/PA/S2B_MSIL2A_20191012T004709_N0213_R102_T53HPA_20191012T023414/S2B_MSIL2A_20191012T004709_N0213_R102_T53HPA_20191012T023414.json', \n",
    "                    'https://terradue-rtd.gitlab.io/sentinel-s2-l2a-cogs/53/H/PA/S2B_MSIL2A_20200130T004659_N0213_R102_T53HPA_20200130T022348/S2B_MSIL2A_20200130T004659_N0213_R102_T53HPA_20200130T022348.json',\n",
    "                    'https://terradue-rtd.gitlab.io/sentinel-s2-l2a-cogs/53/H/PA/S2B_MSIL2A_20200209T004659_N0214_R102_T53HPA_20200209T022720/S2B_MSIL2A_20200209T004659_N0214_R102_T53HPA_20200209T022720.json',\n",
    "                    'https://terradue-rtd.gitlab.io/sentinel-s2-l2a-cogs/48/M/YT/S2A_MSIL2A_20200906T025551_N0214_R032_T48MYT_20200906T063429/S2A_MSIL2A_20200906T025551_N0214_R032_T48MYT_20200906T063429.json']"
   ]
  },
  {
   "cell_type": "code",
   "execution_count": 5,
   "metadata": {},
   "outputs": [
    {
     "name": "stderr",
     "output_type": "stream",
     "text": [
      "2020-11-25T10:14:15 DEBUG    Starting new HTTPS connection (1): terradue-rtd.gitlab.io:443\n",
      "2020-11-25T10:14:16 DEBUG    https://terradue-rtd.gitlab.io:443 \"GET /sentinel-s2-l2a-cogs/53/H/PA/S2B_MSIL2A_20191012T004709_N0213_R102_T53HPA_20191012T023414/S2B_MSIL2A_20191012T004709_N0213_R102_T53HPA_20191012T023414.json HTTP/1.1\" 200 17169\n",
      "2020-11-25T10:14:16 DEBUG    Starting new HTTPS connection (1): terradue-rtd.gitlab.io:443\n"
     ]
    },
    {
     "name": "stdout",
     "output_type": "stream",
     "text": [
      "* <Catalog id=S2B_MSIL2A_20191012T004709_N0213_R102_T53HPA_20191012T023414>\n",
      "  * <Item id=S2B_MSIL2A_20191012T004709_N0213_R102_T53HPA_20191012T023414>\n"
     ]
    },
    {
     "name": "stderr",
     "output_type": "stream",
     "text": [
      "2020-11-25T10:14:16 DEBUG    https://terradue-rtd.gitlab.io:443 \"GET /sentinel-s2-l2a-cogs/53/H/PA/S2B_MSIL2A_20200130T004659_N0213_R102_T53HPA_20200130T022348/S2B_MSIL2A_20200130T004659_N0213_R102_T53HPA_20200130T022348.json HTTP/1.1\" 200 17119\n",
      "2020-11-25T10:14:16 DEBUG    Starting new HTTPS connection (1): terradue-rtd.gitlab.io:443\n"
     ]
    },
    {
     "name": "stdout",
     "output_type": "stream",
     "text": [
      "* <Catalog id=S2B_MSIL2A_20200130T004659_N0213_R102_T53HPA_20200130T022348>\n",
      "  * <Item id=S2B_MSIL2A_20200130T004659_N0213_R102_T53HPA_20200130T022348>\n"
     ]
    },
    {
     "name": "stderr",
     "output_type": "stream",
     "text": [
      "2020-11-25T10:14:17 DEBUG    https://terradue-rtd.gitlab.io:443 \"GET /sentinel-s2-l2a-cogs/53/H/PA/S2B_MSIL2A_20200209T004659_N0214_R102_T53HPA_20200209T022720/S2B_MSIL2A_20200209T004659_N0214_R102_T53HPA_20200209T022720.json HTTP/1.1\" 200 17116\n",
      "2020-11-25T10:14:17 DEBUG    Starting new HTTPS connection (1): terradue-rtd.gitlab.io:443\n"
     ]
    },
    {
     "name": "stdout",
     "output_type": "stream",
     "text": [
      "* <Catalog id=S2B_MSIL2A_20200209T004659_N0214_R102_T53HPA_20200209T022720>\n",
      "  * <Item id=S2B_MSIL2A_20200209T004659_N0214_R102_T53HPA_20200209T022720>\n"
     ]
    },
    {
     "name": "stderr",
     "output_type": "stream",
     "text": [
      "2020-11-25T10:14:17 DEBUG    https://terradue-rtd.gitlab.io:443 \"GET /sentinel-s2-l2a-cogs/48/M/YT/S2A_MSIL2A_20200906T025551_N0214_R032_T48MYT_20200906T063429/S2A_MSIL2A_20200906T025551_N0214_R032_T48MYT_20200906T063429.json HTTP/1.1\" 200 20153\n"
     ]
    },
    {
     "name": "stdout",
     "output_type": "stream",
     "text": [
      "* <Catalog id=S2A_MSIL2A_20200906T025551_N0214_R032_T48MYT_20200906T063429>\n",
      "  * <Item id=S2A_MSIL2A_20200906T025551_N0214_R032_T48MYT_20200906T063429>\n"
     ]
    }
   ],
   "source": [
    "STAC_IO.read_text_method = my_read_method\n",
    "    \n",
    "catalogs = []\n",
    "\n",
    "for index, input_reference in enumerate(input_references):\n",
    "\n",
    "    items = []\n",
    "    \n",
    "    thing = read_file(input_reference)\n",
    "\n",
    "    if isinstance(thing, Item):\n",
    "\n",
    "        items.append(thing)\n",
    "\n",
    "    elif isinstance(thing, Catalog):\n",
    "\n",
    "        for item in thing.get_items():\n",
    "\n",
    "            items.append(item)\n",
    "\n",
    "    # create catalog\n",
    "    catalog = Catalog(id=items[0].id,\n",
    "              description='staged STAC catalog with {}'.format(items[0].id))\n",
    "\n",
    "    catalog.add_items(items)\n",
    "\n",
    "    catalog.normalize_and_save(root_href=items[0].id,\n",
    "                               catalog_type=CatalogType.RELATIVE_PUBLISHED)\n",
    "\n",
    "    catalog.describe()\n",
    "    \n",
    "    catalogs.append(catalog.get_self_href())"
   ]
  },
  {
   "cell_type": "code",
   "execution_count": 6,
   "metadata": {},
   "outputs": [
    {
     "data": {
      "text/plain": [
       "['/workspace/charter-pe/scombi-do/demo/S2B_MSIL2A_20191012T004709_N0213_R102_T53HPA_20191012T023414/catalog.json',\n",
       " '/workspace/charter-pe/scombi-do/demo/S2B_MSIL2A_20200130T004659_N0213_R102_T53HPA_20200130T022348/catalog.json',\n",
       " '/workspace/charter-pe/scombi-do/demo/S2B_MSIL2A_20200209T004659_N0214_R102_T53HPA_20200209T022720/catalog.json',\n",
       " '/workspace/charter-pe/scombi-do/demo/S2A_MSIL2A_20200906T025551_N0214_R032_T48MYT_20200906T063429/catalog.json']"
      ]
     },
     "execution_count": 6,
     "metadata": {},
     "output_type": "execute_result"
    }
   ],
   "source": [
    "catalogs"
   ]
  },
  {
   "cell_type": "markdown",
   "metadata": {},
   "source": [
    "### Scombi-do"
   ]
  },
  {
   "cell_type": "markdown",
   "metadata": {},
   "source": [
    "#### Simple RGB combination"
   ]
  },
  {
   "cell_type": "markdown",
   "metadata": {},
   "source": [
    "Create a profile for a simple RGB composite"
   ]
  },
  {
   "cell_type": "code",
   "execution_count": 28,
   "metadata": {},
   "outputs": [],
   "source": [
    "expressions = ['(interp v1 (asarray 0 10000) (asarray 0 1))', \n",
    "               '(interp v2 (asarray 0 10000) (asarray 0 1))',\n",
    "               '(interp v3 (asarray 0 10000) (asarray 0 1))']"
   ]
  },
  {
   "cell_type": "markdown",
   "metadata": {},
   "source": [
    "Define the bands for the RGB channels using the common band names"
   ]
  },
  {
   "cell_type": "code",
   "execution_count": 29,
   "metadata": {},
   "outputs": [],
   "source": [
    "bands = ['red', 'green', 'blue']"
   ]
  },
  {
   "cell_type": "markdown",
   "metadata": {},
   "source": [
    "Define the input local STAC catalogs"
   ]
  },
  {
   "cell_type": "code",
   "execution_count": 30,
   "metadata": {},
   "outputs": [],
   "source": [
    "channel_inputs = ['/workspace/charter-pe/scombi-do/demo/S2B_MSIL2A_20191012T004709_N0213_R102_T53HPA_20191012T023414/catalog.json',\n",
    "                  '/workspace/charter-pe/scombi-do/demo/S2B_MSIL2A_20191012T004709_N0213_R102_T53HPA_20191012T023414/catalog.json',\n",
    "                  '/workspace/charter-pe/scombi-do/demo/S2B_MSIL2A_20191012T004709_N0213_R102_T53HPA_20191012T023414/catalog.json']"
   ]
  },
  {
   "cell_type": "code",
   "execution_count": 31,
   "metadata": {},
   "outputs": [],
   "source": [
    "color = 'Gamma RGB 3.5 Saturation 1.4 Sigmoidal RGB 15 0.35' "
   ]
  },
  {
   "cell_type": "code",
   "execution_count": 40,
   "metadata": {},
   "outputs": [],
   "source": [
    "aoi = 'POLYGON((136.707 -35.991,136.707 -35.804,137.071 -35.804,137.071 -35.991,136.707 -35.991))'"
   ]
  },
  {
   "cell_type": "code",
   "execution_count": 41,
   "metadata": {},
   "outputs": [],
   "source": [
    "params = dict()\n",
    "\n",
    "params['channel_inputs'] = channel_inputs\n",
    "params['bands'] = bands\n",
    "params['s_expressions'] = expressions\n",
    "params['color'] = color\n",
    "params['aoi'] = aoi\n"
   ]
  },
  {
   "cell_type": "code",
   "execution_count": 33,
   "metadata": {},
   "outputs": [
    {
     "name": "stderr",
     "output_type": "stream",
     "text": [
      "2020-11-25T10:32:19 INFO     <Item id=S2B_MSIL2A_20191012T004709_N0213_R102_T53HPA_20191012T023414>\n",
      "2020-11-25T10:32:19 INFO     <Item id=S2B_MSIL2A_20191012T004709_N0213_R102_T53HPA_20191012T023414>\n",
      "2020-11-25T10:32:19 INFO     <Item id=S2B_MSIL2A_20191012T004709_N0213_R102_T53HPA_20191012T023414>\n",
      "2020-11-25T10:32:20 INFO     Rescaling and COG for input assets\n",
      "2020-11-25T10:32:20 INFO     Getting band red from /vsicurl/https://sentinel-cogs.s3.us-west-2.amazonaws.com/sentinel-s2-l2a-cogs/53/H/PA/2019/10/S2B_53HPA_20191012_0_L2A/B04.tif\n",
      "2020-11-25T10:32:23 INFO     Getting band green from /vsicurl/https://sentinel-cogs.s3.us-west-2.amazonaws.com/sentinel-s2-l2a-cogs/53/H/PA/2019/10/S2B_53HPA_20191012_0_L2A/B03.tif\n",
      "2020-11-25T10:32:25 INFO     Getting band blue from /vsicurl/https://sentinel-cogs.s3.us-west-2.amazonaws.com/sentinel-s2-l2a-cogs/53/H/PA/2019/10/S2B_53HPA_20191012_0_L2A/B02.tif\n",
      "2020-11-25T10:32:27 INFO     Build VRT\n",
      "2020-11-25T10:32:27 INFO     10.0\n",
      "2020-11-25T10:32:27 INFO     Pimp me\n",
      "2020-11-25T10:32:27 INFO     3\n",
      "2020-11-25T10:32:28 INFO     Applying color operations: Gamma RGB 3.5 Saturation 1.4 Sigmoidal RGB 15 0.35\n",
      "2020-11-25T10:32:35 INFO     Adding band 1 of 3\n",
      "2020-11-25T10:32:35 INFO     Adding band 2 of 3\n",
      "2020-11-25T10:32:35 INFO     Adding band 3 of 3\n",
      "2020-11-25T10:32:41 INFO     STAC\n",
      "2020-11-25T10:32:41 INFO     Done!\n"
     ]
    }
   ],
   "source": [
    "result = main(**params)"
   ]
  },
  {
   "cell_type": "code",
   "execution_count": 34,
   "metadata": {},
   "outputs": [
    {
     "data": {
      "text/plain": [
       "'/workspace/charter-pe/scombi-do/demo/catalog.json'"
      ]
     },
     "execution_count": 34,
     "metadata": {},
     "output_type": "execute_result"
    }
   ],
   "source": [
    "result"
   ]
  },
  {
   "cell_type": "code",
   "execution_count": 35,
   "metadata": {},
   "outputs": [],
   "source": [
    "item = next(read_file(result).get_items())"
   ]
  },
  {
   "cell_type": "code",
   "execution_count": 42,
   "metadata": {},
   "outputs": [],
   "source": [
    "dsw = gdal.Warp('/vsimem/warp.tif',\n",
    "              item.get_assets()['rgb'].get_absolute_href(), \n",
    "              dstSRS='EPSG:4326',\n",
    "              format='GTiff',\n",
    "               dstAlpha=True)"
   ]
  },
  {
   "cell_type": "code",
   "execution_count": 43,
   "metadata": {},
   "outputs": [],
   "source": [
    "ds = gdal.Open('/vsimem/warp.tif')\n",
    "\n",
    "_bands = []\n",
    "for band_index in [1,2,3,4]:\n",
    "\n",
    "    band = ds.GetRasterBand(band_index)\n",
    "    w = band.XSize\n",
    "    h = band.YSize\n",
    "    _bands.append(band.ReadAsArray().astype(np.uint8))\n",
    "\n",
    "rgb_uint8 = np.dstack(_bands).astype(np.uint8)\n",
    "\n",
    "im = Image.fromarray(rgb_uint8)\n",
    "\n",
    "f = BytesIO()\n",
    "\n",
    "im.save(f, 'png')\n",
    "data = b64encode(f.getvalue())\n",
    "\n",
    "ds = None\n",
    "dsw = None\n",
    "del(ds)\n",
    "del(dsw)"
   ]
  },
  {
   "cell_type": "code",
   "execution_count": 44,
   "metadata": {},
   "outputs": [
    {
     "data": {
      "application/vnd.jupyter.widget-view+json": {
       "model_id": "ff17d93edac64e73bf5a0a9c5c8bf016",
       "version_major": 2,
       "version_minor": 0
      },
      "text/plain": [
       "Map(center=[-35.8975, 136.88900000000004], controls=(ZoomControl(options=['position', 'zoom_in_text', 'zoom_in…"
      ]
     },
     "metadata": {},
     "output_type": "display_data"
    }
   ],
   "source": [
    "m = Map(center=(shape(item.geometry).centroid.y, \n",
    "                shape(item.geometry).centroid.x), \n",
    "                zoom=10)\n",
    "\n",
    "image = ImageOverlay(\n",
    "            url=b'data:image/png;base64,' + data,\n",
    "            bounds=((shape(item.geometry).bounds[1], \n",
    "                     shape(item.geometry).bounds[0]), \n",
    "                    (shape(item.geometry).bounds[3], \n",
    "                     shape(item.geometry).bounds[2]))\n",
    "        )\n",
    "m.add_layer(image)\n",
    "m"
   ]
  },
  {
   "cell_type": "markdown",
   "metadata": {},
   "source": [
    "#### Normalized difference"
   ]
  },
  {
   "cell_type": "code",
   "execution_count": 45,
   "metadata": {},
   "outputs": [],
   "source": [
    "expressions = ['(interp (/ (- v1 v2) (+ v1 v2)) (asarray -1 1) (asarray 0 1))']"
   ]
  },
  {
   "cell_type": "markdown",
   "metadata": {},
   "source": [
    "Define the bands for the RGB channels using the common band names"
   ]
  },
  {
   "cell_type": "code",
   "execution_count": 46,
   "metadata": {},
   "outputs": [],
   "source": [
    "bands = ['nir', 'red']"
   ]
  },
  {
   "cell_type": "markdown",
   "metadata": {},
   "source": [
    "Define the input local STAC catalogs"
   ]
  },
  {
   "cell_type": "code",
   "execution_count": 53,
   "metadata": {},
   "outputs": [],
   "source": [
    "channel_inputs = ['/workspace/charter-pe/scombi-do/demo/S2B_MSIL2A_20191012T004709_N0213_R102_T53HPA_20191012T023414/catalog.json',\n",
    "                  '/workspace/charter-pe/scombi-do/demo/S2B_MSIL2A_20191012T004709_N0213_R102_T53HPA_20191012T023414/catalog.json']"
   ]
  },
  {
   "cell_type": "code",
   "execution_count": 54,
   "metadata": {},
   "outputs": [],
   "source": [
    "aoi = 'POLYGON((136.707 -35.991,136.707 -35.804,137.071 -35.804,137.071 -35.991,136.707 -35.991))'"
   ]
  },
  {
   "cell_type": "code",
   "execution_count": 55,
   "metadata": {},
   "outputs": [],
   "source": [
    "params = dict()\n",
    "\n",
    "params['channel_inputs'] = channel_inputs\n",
    "params['bands'] = bands\n",
    "params['s_expressions'] = expressions\n",
    "params['aoi'] = aoi\n",
    "params['lut'] = 'viridis'"
   ]
  },
  {
   "cell_type": "code",
   "execution_count": 56,
   "metadata": {},
   "outputs": [
    {
     "name": "stderr",
     "output_type": "stream",
     "text": [
      "2020-11-25T10:51:04 INFO     <Item id=S2B_MSIL2A_20191012T004709_N0213_R102_T53HPA_20191012T023414>\n",
      "2020-11-25T10:51:04 INFO     <Item id=S2B_MSIL2A_20191012T004709_N0213_R102_T53HPA_20191012T023414>\n",
      "2020-11-25T10:51:05 INFO     Rescaling and COG for input assets\n",
      "2020-11-25T10:51:05 INFO     Getting band nir from /vsicurl/https://sentinel-cogs.s3.us-west-2.amazonaws.com/sentinel-s2-l2a-cogs/53/H/PA/2019/10/S2B_53HPA_20191012_0_L2A/B08.tif\n",
      "2020-11-25T10:51:08 INFO     Getting band red from /vsicurl/https://sentinel-cogs.s3.us-west-2.amazonaws.com/sentinel-s2-l2a-cogs/53/H/PA/2019/10/S2B_53HPA_20191012_0_L2A/B04.tif\n",
      "2020-11-25T10:51:11 INFO     Build VRT\n",
      "2020-11-25T10:51:11 INFO     10.0\n",
      "2020-11-25T10:51:11 INFO     Pimp me\n",
      "2020-11-25T10:51:11 INFO     2\n",
      "2020-11-25T10:51:12 INFO     Applying look-up table\n",
      "2020-11-25T10:51:12 INFO     Adding band 1 of 3\n",
      "2020-11-25T10:51:12 INFO     Adding band 2 of 3\n",
      "2020-11-25T10:51:12 INFO     Adding band 3 of 3\n",
      "2020-11-25T10:51:17 INFO     STAC\n",
      "2020-11-25T10:51:17 INFO     Done!\n"
     ]
    }
   ],
   "source": [
    "result = main(**params)"
   ]
  },
  {
   "cell_type": "code",
   "execution_count": 60,
   "metadata": {},
   "outputs": [
    {
     "data": {
      "text/plain": [
       "<Item id=combi>"
      ]
     },
     "execution_count": 60,
     "metadata": {},
     "output_type": "execute_result"
    }
   ],
   "source": [
    "item = next(read_file(result).get_items())\n",
    "\n",
    "item"
   ]
  },
  {
   "cell_type": "code",
   "execution_count": 61,
   "metadata": {},
   "outputs": [],
   "source": [
    "dsw = gdal.Warp('/vsimem/warp.tif',\n",
    "              item.get_assets()['rgb'].get_absolute_href(), \n",
    "              dstSRS='EPSG:4326',\n",
    "              format='GTiff',\n",
    "               dstAlpha=True)\n",
    "\n",
    "ds = gdal.Open('/vsimem/warp.tif')\n",
    "\n",
    "_bands = []\n",
    "for band_index in [1,2,3,4]:\n",
    "\n",
    "    band = ds.GetRasterBand(band_index)\n",
    "    w = band.XSize\n",
    "    h = band.YSize\n",
    "    _bands.append(band.ReadAsArray().astype(np.uint8))\n",
    "\n",
    "rgb_uint8 = np.dstack(_bands).astype(np.uint8)\n",
    "\n",
    "im = Image.fromarray(rgb_uint8)\n",
    "\n",
    "f = BytesIO()\n",
    "\n",
    "im.save(f, 'png')\n",
    "data = b64encode(f.getvalue())\n",
    "\n",
    "ds = None\n",
    "dsw = None\n",
    "del(ds)\n",
    "del(dsw)"
   ]
  },
  {
   "cell_type": "code",
   "execution_count": 62,
   "metadata": {},
   "outputs": [
    {
     "data": {
      "application/vnd.jupyter.widget-view+json": {
       "model_id": "0c6ae8a25fbc45f58205e2f12da98d6d",
       "version_major": 2,
       "version_minor": 0
      },
      "text/plain": [
       "Map(center=[-35.8975, 136.88900000000004], controls=(ZoomControl(options=['position', 'zoom_in_text', 'zoom_in…"
      ]
     },
     "metadata": {},
     "output_type": "display_data"
    }
   ],
   "source": [
    "m = Map(center=(shape(item.geometry).centroid.y, \n",
    "                shape(item.geometry).centroid.x), \n",
    "                zoom=10)\n",
    "\n",
    "image = ImageOverlay(\n",
    "            url=b'data:image/png;base64,' + data,\n",
    "            bounds=((shape(item.geometry).bounds[1], \n",
    "                     shape(item.geometry).bounds[0]), \n",
    "                    (shape(item.geometry).bounds[3], \n",
    "                     shape(item.geometry).bounds[2]))\n",
    "        )\n",
    "m.add_layer(image)\n",
    "m"
   ]
  },
  {
   "cell_type": "code",
   "execution_count": null,
   "metadata": {},
   "outputs": [],
   "source": []
  }
 ],
 "metadata": {
  "kernelspec": {
   "display_name": "Python [conda env:env_scombi_do]",
   "language": "python",
   "name": "conda-env-env_scombi_do-py"
  },
  "language_info": {
   "codemirror_mode": {
    "name": "ipython",
    "version": 3
   },
   "file_extension": ".py",
   "mimetype": "text/x-python",
   "name": "python",
   "nbconvert_exporter": "python",
   "pygments_lexer": "ipython3",
   "version": "3.7.8"
  }
 },
 "nbformat": 4,
 "nbformat_minor": 4
}
