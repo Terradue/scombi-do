{
 "cells": [
  {
   "cell_type": "code",
   "execution_count": null,
   "metadata": {},
   "outputs": [],
   "source": [
    "%load_ext autoreload\n",
    "%autoreload 2"
   ]
  },
  {
   "cell_type": "code",
   "execution_count": null,
   "metadata": {},
   "outputs": [],
   "source": [
    "from scombi_do.app import scombi\n",
    "from helpers import item_to_img_overlay, my_read_method\n",
    "from pystac import STAC_IO, read_file, Item, Catalog, CatalogType\n",
    "from shapely.geometry import shape\n",
    "from ipyleaflet import Map"
   ]
  },
  {
   "cell_type": "markdown",
   "metadata": {},
   "source": [
    "### Stage the STAC catalogs"
   ]
  },
  {
   "cell_type": "code",
   "execution_count": null,
   "metadata": {},
   "outputs": [],
   "source": [
    "input_references = ['https://terradue-rtd.gitlab.io/sentinel-s2-l2a-cogs/53/H/PA/S2B_MSIL2A_20191012T004709_N0213_R102_T53HPA_20191012T023414/S2B_MSIL2A_20191012T004709_N0213_R102_T53HPA_20191012T023414.json', \n",
    "                    'https://terradue-rtd.gitlab.io/sentinel-s2-l2a-cogs/53/H/PA/S2B_MSIL2A_20200130T004659_N0213_R102_T53HPA_20200130T022348/S2B_MSIL2A_20200130T004659_N0213_R102_T53HPA_20200130T022348.json',\n",
    "                    'https://terradue-rtd.gitlab.io/sentinel-s2-l2a-cogs/53/H/PA/S2B_MSIL2A_20200209T004659_N0214_R102_T53HPA_20200209T022720/S2B_MSIL2A_20200209T004659_N0214_R102_T53HPA_20200209T022720.json',\n",
    "                    'https://terradue-rtd.gitlab.io/sentinel-s2-l2a-cogs/48/M/YT/S2A_MSIL2A_20200906T025551_N0214_R032_T48MYT_20200906T063429/S2A_MSIL2A_20200906T025551_N0214_R032_T48MYT_20200906T063429.json']"
   ]
  },
  {
   "cell_type": "code",
   "execution_count": null,
   "metadata": {},
   "outputs": [],
   "source": [
    "STAC_IO.read_text_method = my_read_method\n",
    "    \n",
    "catalogs = []\n",
    "\n",
    "for index, input_reference in enumerate(input_references):\n",
    "\n",
    "    items = []\n",
    "    \n",
    "    thing = read_file(input_reference)\n",
    "\n",
    "    if isinstance(thing, Item):\n",
    "\n",
    "        items.append(thing)\n",
    "\n",
    "    elif isinstance(thing, Catalog):\n",
    "\n",
    "        for item in thing.get_items():\n",
    "\n",
    "            items.append(item)\n",
    "\n",
    "    # create catalog\n",
    "    catalog = Catalog(id=items[0].id,\n",
    "              description='staged STAC catalog with {}'.format(items[0].id))\n",
    "\n",
    "    catalog.add_items(items)\n",
    "\n",
    "    catalog.normalize_and_save(root_href=items[0].id,\n",
    "                               catalog_type=CatalogType.RELATIVE_PUBLISHED)\n",
    "\n",
    "    catalog.describe()\n",
    "    \n",
    "    catalogs.append(catalog.get_self_href())"
   ]
  },
  {
   "cell_type": "code",
   "execution_count": null,
   "metadata": {},
   "outputs": [],
   "source": [
    "catalogs"
   ]
  },
  {
   "cell_type": "markdown",
   "metadata": {},
   "source": [
    "### Scombi-do"
   ]
  },
  {
   "cell_type": "markdown",
   "metadata": {},
   "source": [
    "#### Simple RGB combination"
   ]
  },
  {
   "cell_type": "code",
   "execution_count": null,
   "metadata": {},
   "outputs": [],
   "source": [
    "expressions = ['(interp v1 (asarray 0 10000) (asarray 0 1))', \n",
    "               '(interp v2 (asarray 0 10000) (asarray 0 1))',\n",
    "               '(interp v3 (asarray 0 10000) (asarray 0 1))']"
   ]
  },
  {
   "cell_type": "markdown",
   "metadata": {},
   "source": [
    "Define the bands for the RGB channels using the common band names"
   ]
  },
  {
   "cell_type": "code",
   "execution_count": null,
   "metadata": {},
   "outputs": [],
   "source": [
    "bands = ['red', 'green', 'blue']"
   ]
  },
  {
   "cell_type": "markdown",
   "metadata": {},
   "source": [
    "Define the input local STAC catalogs"
   ]
  },
  {
   "cell_type": "code",
   "execution_count": null,
   "metadata": {},
   "outputs": [],
   "source": [
    "channel_inputs = [catalogs[0], \n",
    "                  catalogs[0],\n",
    "                  catalogs[0]]\n",
    "channel_inputs"
   ]
  },
  {
   "cell_type": "code",
   "execution_count": null,
   "metadata": {},
   "outputs": [],
   "source": [
    "color = 'Gamma RGB 3.5 Saturation 1.4 Sigmoidal RGB 15 0.35' "
   ]
  },
  {
   "cell_type": "code",
   "execution_count": null,
   "metadata": {},
   "outputs": [],
   "source": [
    "aoi = 'POLYGON((136.707 -35.991,136.707 -35.804,137.071 -35.804,137.071 -35.991,136.707 -35.991))'"
   ]
  },
  {
   "cell_type": "code",
   "execution_count": null,
   "metadata": {},
   "outputs": [],
   "source": [
    "params = dict()\n",
    "\n",
    "params['channel_inputs'] = channel_inputs\n",
    "params['bands'] = bands\n",
    "params['s_expressions'] = expressions\n",
    "params['color'] = color\n",
    "params['aoi'] = aoi\n"
   ]
  },
  {
   "cell_type": "code",
   "execution_count": null,
   "metadata": {},
   "outputs": [],
   "source": [
    "result = scombi(**params)"
   ]
  },
  {
   "cell_type": "code",
   "execution_count": null,
   "metadata": {},
   "outputs": [],
   "source": [
    "item = next(read_file(result).get_items())\n",
    "\n",
    "m = Map(center=(shape(item.geometry).centroid.y, \n",
    "                shape(item.geometry).centroid.x), \n",
    "                zoom=10)\n",
    "\n",
    "image = item_to_img_overlay(item)\n",
    "\n",
    "m.add_layer(image)\n",
    "m"
   ]
  },
  {
   "cell_type": "markdown",
   "metadata": {},
   "source": [
    "#### Normalized difference"
   ]
  },
  {
   "cell_type": "code",
   "execution_count": null,
   "metadata": {},
   "outputs": [],
   "source": [
    "expressions = ['(interp (/ (- v1 v2) (+ v1 v2)) (asarray -1 1) (asarray 0 1))']"
   ]
  },
  {
   "cell_type": "markdown",
   "metadata": {},
   "source": [
    "Define the bands for the RGB channels using the common band names"
   ]
  },
  {
   "cell_type": "code",
   "execution_count": null,
   "metadata": {},
   "outputs": [],
   "source": [
    "bands = ['nir', 'red']"
   ]
  },
  {
   "cell_type": "markdown",
   "metadata": {},
   "source": [
    "Define the input local STAC catalogs"
   ]
  },
  {
   "cell_type": "code",
   "execution_count": null,
   "metadata": {},
   "outputs": [],
   "source": [
    "channel_inputs = [catalogs[0], \n",
    "                  catalogs[0]]\n",
    "channel_inputs"
   ]
  },
  {
   "cell_type": "code",
   "execution_count": null,
   "metadata": {},
   "outputs": [],
   "source": [
    "aoi = 'POLYGON((136.707 -35.991,136.707 -35.804,137.071 -35.804,137.071 -35.991,136.707 -35.991))'"
   ]
  },
  {
   "cell_type": "code",
   "execution_count": null,
   "metadata": {},
   "outputs": [],
   "source": [
    "params = dict()\n",
    "\n",
    "params['channel_inputs'] = channel_inputs\n",
    "params['bands'] = bands\n",
    "params['s_expressions'] = expressions\n",
    "params['aoi'] = aoi\n",
    "params['lut'] = 'viridis'"
   ]
  },
  {
   "cell_type": "code",
   "execution_count": null,
   "metadata": {},
   "outputs": [],
   "source": [
    "result = scombi(**params)"
   ]
  },
  {
   "cell_type": "code",
   "execution_count": null,
   "metadata": {},
   "outputs": [],
   "source": [
    "item = next(read_file(result).get_items())\n",
    "\n",
    "m = Map(center=(shape(item.geometry).centroid.y, \n",
    "                shape(item.geometry).centroid.x), \n",
    "                zoom=10)\n",
    "\n",
    "image = item_to_img_overlay(item)\n",
    "\n",
    "m.add_layer(image)\n",
    "m"
   ]
  },
  {
   "cell_type": "markdown",
   "metadata": {},
   "source": [
    "### Multitemporal RGB composite"
   ]
  },
  {
   "cell_type": "code",
   "execution_count": null,
   "metadata": {},
   "outputs": [],
   "source": [
    "expressions = ['(interp v1 (asarray 0 10000) (asarray 0 1))', \n",
    "               '(interp v2 (asarray 0 10000) (asarray 0 1))',\n",
    "               '(interp v3 (asarray 0 10000) (asarray 0 1))']"
   ]
  },
  {
   "cell_type": "markdown",
   "metadata": {},
   "source": [
    "Define the bands for the RGB channels using the common band names"
   ]
  },
  {
   "cell_type": "code",
   "execution_count": null,
   "metadata": {},
   "outputs": [],
   "source": [
    "bands = ['red', 'green', 'blue']"
   ]
  },
  {
   "cell_type": "markdown",
   "metadata": {},
   "source": [
    "Define the input local STAC catalogs"
   ]
  },
  {
   "cell_type": "code",
   "execution_count": null,
   "metadata": {},
   "outputs": [],
   "source": [
    "channel_inputs = [catalogs[0], \n",
    "                  catalogs[1],\n",
    "                  catalogs[2]]\n",
    "channel_inputs"
   ]
  },
  {
   "cell_type": "code",
   "execution_count": null,
   "metadata": {},
   "outputs": [],
   "source": [
    "color = 'Gamma RGB 3.5 Saturation 1.4 Sigmoidal RGB 15 0.45' "
   ]
  },
  {
   "cell_type": "code",
   "execution_count": null,
   "metadata": {},
   "outputs": [],
   "source": [
    "aoi = 'POLYGON((136.707 -35.991,136.707 -35.804,137.071 -35.804,137.071 -35.991,136.707 -35.991))'"
   ]
  },
  {
   "cell_type": "code",
   "execution_count": null,
   "metadata": {},
   "outputs": [],
   "source": [
    "params = dict()\n",
    "\n",
    "params['channel_inputs'] = channel_inputs\n",
    "params['bands'] = bands\n",
    "params['s_expressions'] = expressions\n",
    "params['color'] = color\n",
    "params['aoi'] = aoi\n"
   ]
  },
  {
   "cell_type": "code",
   "execution_count": null,
   "metadata": {},
   "outputs": [],
   "source": [
    "result = scombi(**params)"
   ]
  },
  {
   "cell_type": "code",
   "execution_count": null,
   "metadata": {},
   "outputs": [],
   "source": [
    "item = next(read_file(result).get_items())\n",
    "\n",
    "m = Map(center=(shape(item.geometry).centroid.y, \n",
    "                shape(item.geometry).centroid.x), \n",
    "                zoom=10)\n",
    "\n",
    "image = item_to_img_overlay(item)\n",
    "\n",
    "m.add_layer(image)\n",
    "m"
   ]
  },
  {
   "cell_type": "code",
   "execution_count": null,
   "metadata": {},
   "outputs": [],
   "source": []
  }
 ],
 "metadata": {
  "kernelspec": {
   "display_name": "Python [conda env:env_opt_calibration]",
   "language": "python",
   "name": "conda-env-env_opt_calibration-py"
  },
  "language_info": {
   "codemirror_mode": {
    "name": "ipython",
    "version": 3
   },
   "file_extension": ".py",
   "mimetype": "text/x-python",
   "name": "python",
   "nbconvert_exporter": "python",
   "pygments_lexer": "ipython3",
   "version": "3.7.8"
  }
 },
 "nbformat": 4,
 "nbformat_minor": 4
}
