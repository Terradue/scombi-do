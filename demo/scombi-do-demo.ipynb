{
 "cells": [
  {
   "cell_type": "code",
   "execution_count": 1,
   "metadata": {},
   "outputs": [],
   "source": [
    "%load_ext autoreload\n",
    "%autoreload 2"
   ]
  },
  {
   "cell_type": "code",
   "execution_count": 2,
   "metadata": {},
   "outputs": [],
   "source": [
    "from scombi_do.app import main\n",
    "from helpers import item_to_img_overlay, my_read_method\n",
    "from pystac import STAC_IO, read_file, Item, Catalog, CatalogType\n",
    "from shapely.geometry import shape\n",
    "from ipyleaflet import Map"
   ]
  },
  {
   "cell_type": "markdown",
   "metadata": {},
   "source": [
    "### Stage the STAC catalogs"
   ]
  },
  {
   "cell_type": "code",
   "execution_count": 3,
   "metadata": {},
   "outputs": [],
   "source": [
    "input_references = ['https://terradue-rtd.gitlab.io/sentinel-s2-l2a-cogs/53/H/PA/S2B_MSIL2A_20191012T004709_N0213_R102_T53HPA_20191012T023414/S2B_MSIL2A_20191012T004709_N0213_R102_T53HPA_20191012T023414.json', \n",
    "                    'https://terradue-rtd.gitlab.io/sentinel-s2-l2a-cogs/53/H/PA/S2B_MSIL2A_20200130T004659_N0213_R102_T53HPA_20200130T022348/S2B_MSIL2A_20200130T004659_N0213_R102_T53HPA_20200130T022348.json',\n",
    "                    'https://terradue-rtd.gitlab.io/sentinel-s2-l2a-cogs/53/H/PA/S2B_MSIL2A_20200209T004659_N0214_R102_T53HPA_20200209T022720/S2B_MSIL2A_20200209T004659_N0214_R102_T53HPA_20200209T022720.json',\n",
    "                    'https://terradue-rtd.gitlab.io/sentinel-s2-l2a-cogs/48/M/YT/S2A_MSIL2A_20200906T025551_N0214_R032_T48MYT_20200906T063429/S2A_MSIL2A_20200906T025551_N0214_R032_T48MYT_20200906T063429.json']"
   ]
  },
  {
   "cell_type": "code",
   "execution_count": 4,
   "metadata": {},
   "outputs": [
    {
     "name": "stderr",
     "output_type": "stream",
     "text": [
      "2020-11-25T15:09:17 DEBUG    Starting new HTTPS connection (1): terradue-rtd.gitlab.io:443\n",
      "2020-11-25T15:09:18 DEBUG    https://terradue-rtd.gitlab.io:443 \"GET /sentinel-s2-l2a-cogs/53/H/PA/S2B_MSIL2A_20191012T004709_N0213_R102_T53HPA_20191012T023414/S2B_MSIL2A_20191012T004709_N0213_R102_T53HPA_20191012T023414.json HTTP/1.1\" 200 17169\n",
      "2020-11-25T15:09:18 DEBUG    Starting new HTTPS connection (1): terradue-rtd.gitlab.io:443\n"
     ]
    },
    {
     "name": "stdout",
     "output_type": "stream",
     "text": [
      "* <Catalog id=S2B_MSIL2A_20191012T004709_N0213_R102_T53HPA_20191012T023414>\n",
      "  * <Item id=S2B_MSIL2A_20191012T004709_N0213_R102_T53HPA_20191012T023414>\n"
     ]
    },
    {
     "name": "stderr",
     "output_type": "stream",
     "text": [
      "2020-11-25T15:09:18 DEBUG    https://terradue-rtd.gitlab.io:443 \"GET /sentinel-s2-l2a-cogs/53/H/PA/S2B_MSIL2A_20200130T004659_N0213_R102_T53HPA_20200130T022348/S2B_MSIL2A_20200130T004659_N0213_R102_T53HPA_20200130T022348.json HTTP/1.1\" 200 17119\n",
      "2020-11-25T15:09:18 DEBUG    Starting new HTTPS connection (1): terradue-rtd.gitlab.io:443\n"
     ]
    },
    {
     "name": "stdout",
     "output_type": "stream",
     "text": [
      "* <Catalog id=S2B_MSIL2A_20200130T004659_N0213_R102_T53HPA_20200130T022348>\n",
      "  * <Item id=S2B_MSIL2A_20200130T004659_N0213_R102_T53HPA_20200130T022348>\n"
     ]
    },
    {
     "name": "stderr",
     "output_type": "stream",
     "text": [
      "2020-11-25T15:09:19 DEBUG    https://terradue-rtd.gitlab.io:443 \"GET /sentinel-s2-l2a-cogs/53/H/PA/S2B_MSIL2A_20200209T004659_N0214_R102_T53HPA_20200209T022720/S2B_MSIL2A_20200209T004659_N0214_R102_T53HPA_20200209T022720.json HTTP/1.1\" 200 17116\n",
      "2020-11-25T15:09:19 DEBUG    Starting new HTTPS connection (1): terradue-rtd.gitlab.io:443\n"
     ]
    },
    {
     "name": "stdout",
     "output_type": "stream",
     "text": [
      "* <Catalog id=S2B_MSIL2A_20200209T004659_N0214_R102_T53HPA_20200209T022720>\n",
      "  * <Item id=S2B_MSIL2A_20200209T004659_N0214_R102_T53HPA_20200209T022720>\n"
     ]
    },
    {
     "name": "stderr",
     "output_type": "stream",
     "text": [
      "2020-11-25T15:09:19 DEBUG    https://terradue-rtd.gitlab.io:443 \"GET /sentinel-s2-l2a-cogs/48/M/YT/S2A_MSIL2A_20200906T025551_N0214_R032_T48MYT_20200906T063429/S2A_MSIL2A_20200906T025551_N0214_R032_T48MYT_20200906T063429.json HTTP/1.1\" 200 20153\n"
     ]
    },
    {
     "name": "stdout",
     "output_type": "stream",
     "text": [
      "* <Catalog id=S2A_MSIL2A_20200906T025551_N0214_R032_T48MYT_20200906T063429>\n",
      "  * <Item id=S2A_MSIL2A_20200906T025551_N0214_R032_T48MYT_20200906T063429>\n"
     ]
    }
   ],
   "source": [
    "STAC_IO.read_text_method = my_read_method\n",
    "    \n",
    "catalogs = []\n",
    "\n",
    "for index, input_reference in enumerate(input_references):\n",
    "\n",
    "    items = []\n",
    "    \n",
    "    thing = read_file(input_reference)\n",
    "\n",
    "    if isinstance(thing, Item):\n",
    "\n",
    "        items.append(thing)\n",
    "\n",
    "    elif isinstance(thing, Catalog):\n",
    "\n",
    "        for item in thing.get_items():\n",
    "\n",
    "            items.append(item)\n",
    "\n",
    "    # create catalog\n",
    "    catalog = Catalog(id=items[0].id,\n",
    "              description='staged STAC catalog with {}'.format(items[0].id))\n",
    "\n",
    "    catalog.add_items(items)\n",
    "\n",
    "    catalog.normalize_and_save(root_href=items[0].id,\n",
    "                               catalog_type=CatalogType.RELATIVE_PUBLISHED)\n",
    "\n",
    "    catalog.describe()\n",
    "    \n",
    "    catalogs.append(catalog.get_self_href())"
   ]
  },
  {
   "cell_type": "code",
   "execution_count": 5,
   "metadata": {},
   "outputs": [
    {
     "data": {
      "text/plain": [
       "['/workspace/charter-pe/scombi-do/demo/S2B_MSIL2A_20191012T004709_N0213_R102_T53HPA_20191012T023414/catalog.json',\n",
       " '/workspace/charter-pe/scombi-do/demo/S2B_MSIL2A_20200130T004659_N0213_R102_T53HPA_20200130T022348/catalog.json',\n",
       " '/workspace/charter-pe/scombi-do/demo/S2B_MSIL2A_20200209T004659_N0214_R102_T53HPA_20200209T022720/catalog.json',\n",
       " '/workspace/charter-pe/scombi-do/demo/S2A_MSIL2A_20200906T025551_N0214_R032_T48MYT_20200906T063429/catalog.json']"
      ]
     },
     "execution_count": 5,
     "metadata": {},
     "output_type": "execute_result"
    }
   ],
   "source": [
    "catalogs"
   ]
  },
  {
   "cell_type": "markdown",
   "metadata": {},
   "source": [
    "### Scombi-do"
   ]
  },
  {
   "cell_type": "markdown",
   "metadata": {},
   "source": [
    "#### Simple RGB combination"
   ]
  },
  {
   "cell_type": "code",
   "execution_count": 6,
   "metadata": {},
   "outputs": [],
   "source": [
    "expressions = ['(interp v1 (asarray 0 10000) (asarray 0 1))', \n",
    "               '(interp v2 (asarray 0 10000) (asarray 0 1))',\n",
    "               '(interp v3 (asarray 0 10000) (asarray 0 1))']"
   ]
  },
  {
   "cell_type": "markdown",
   "metadata": {},
   "source": [
    "Define the bands for the RGB channels using the common band names"
   ]
  },
  {
   "cell_type": "code",
   "execution_count": 7,
   "metadata": {},
   "outputs": [],
   "source": [
    "bands = ['red', 'green', 'blue']"
   ]
  },
  {
   "cell_type": "markdown",
   "metadata": {},
   "source": [
    "Define the input local STAC catalogs"
   ]
  },
  {
   "cell_type": "code",
   "execution_count": 8,
   "metadata": {},
   "outputs": [],
   "source": [
    "channel_inputs = [catalogs[0], \n",
    "                  catalogs[0],\n",
    "                  catalogs[0]]\n",
    "channel_inputs"
   ]
  },
  {
   "cell_type": "code",
   "execution_count": 9,
   "metadata": {},
   "outputs": [],
   "source": [
    "color = 'Gamma RGB 3.5 Saturation 1.4 Sigmoidal RGB 15 0.35' "
   ]
  },
  {
   "cell_type": "code",
   "execution_count": 10,
   "metadata": {},
   "outputs": [],
   "source": [
    "aoi = 'POLYGON((136.707 -35.991,136.707 -35.804,137.071 -35.804,137.071 -35.991,136.707 -35.991))'"
   ]
  },
  {
   "cell_type": "code",
   "execution_count": 11,
   "metadata": {},
   "outputs": [],
   "source": [
    "params = dict()\n",
    "\n",
    "params['channel_inputs'] = channel_inputs\n",
    "params['bands'] = bands\n",
    "params['s_expressions'] = expressions\n",
    "params['color'] = color\n",
    "params['aoi'] = aoi\n"
   ]
  },
  {
   "cell_type": "code",
   "execution_count": 12,
   "metadata": {},
   "outputs": [
    {
     "name": "stderr",
     "output_type": "stream",
     "text": [
      "2020-11-25T15:09:20 INFO     <Item id=S2B_MSIL2A_20191012T004709_N0213_R102_T53HPA_20191012T023414>\n",
      "2020-11-25T15:09:20 INFO     <Item id=S2B_MSIL2A_20191012T004709_N0213_R102_T53HPA_20191012T023414>\n",
      "2020-11-25T15:09:20 INFO     <Item id=S2B_MSIL2A_20191012T004709_N0213_R102_T53HPA_20191012T023414>\n",
      "2020-11-25T15:09:42 INFO     Rescaling and COG for input assets\n",
      "2020-11-25T15:09:42 INFO     Getting band red from /vsicurl/https://sentinel-cogs.s3.us-west-2.amazonaws.com/sentinel-s2-l2a-cogs/53/H/PA/2019/10/S2B_53HPA_20191012_0_L2A/B04.tif\n",
      "2020-11-25T15:10:36 INFO     Getting band green from /vsicurl/https://sentinel-cogs.s3.us-west-2.amazonaws.com/sentinel-s2-l2a-cogs/53/H/PA/2019/10/S2B_53HPA_20191012_0_L2A/B03.tif\n",
      "2020-11-25T15:11:13 INFO     Getting band blue from /vsicurl/https://sentinel-cogs.s3.us-west-2.amazonaws.com/sentinel-s2-l2a-cogs/53/H/PA/2019/10/S2B_53HPA_20191012_0_L2A/B02.tif\n",
      "2020-11-25T15:11:50 INFO     Build VRT\n",
      "2020-11-25T15:11:50 INFO     10.0\n",
      "2020-11-25T15:11:50 INFO     Pimp me\n",
      "2020-11-25T15:11:50 INFO     3\n",
      "2020-11-25T15:11:51 INFO     Applying color operations: Gamma RGB 3.5 Saturation 1.4 Sigmoidal RGB 15 0.35\n",
      "2020-11-25T15:11:58 INFO     Adding band 1 of 3\n",
      "2020-11-25T15:11:58 INFO     Adding band 2 of 3\n",
      "2020-11-25T15:11:59 INFO     Adding band 3 of 3\n",
      "2020-11-25T15:12:04 INFO     STAC\n",
      "2020-11-25T15:12:04 INFO     Done!\n"
     ]
    }
   ],
   "source": [
    "result = main(**params)"
   ]
  },
  {
   "cell_type": "code",
   "execution_count": 14,
   "metadata": {},
   "outputs": [
    {
     "data": {
      "application/vnd.jupyter.widget-view+json": {
       "model_id": "df8d86861d984bf58de78bf9c444bf53",
       "version_major": 2,
       "version_minor": 0
      },
      "text/plain": [
       "Map(center=[-35.8975, 136.88900000000004], controls=(ZoomControl(options=['position', 'zoom_in_text', 'zoom_in…"
      ]
     },
     "metadata": {},
     "output_type": "display_data"
    }
   ],
   "source": [
    "item = next(read_file(result).get_items())\n",
    "\n",
    "m = Map(center=(shape(item.geometry).centroid.y, \n",
    "                shape(item.geometry).centroid.x), \n",
    "                zoom=10)\n",
    "\n",
    "image = item_to_img_overlay(item)\n",
    "\n",
    "m.add_layer(image)\n",
    "m"
   ]
  },
  {
   "cell_type": "markdown",
   "metadata": {},
   "source": [
    "#### Normalized difference"
   ]
  },
  {
   "cell_type": "code",
   "execution_count": 15,
   "metadata": {},
   "outputs": [],
   "source": [
    "expressions = ['(interp (/ (- v1 v2) (+ v1 v2)) (asarray -1 1) (asarray 0 1))']"
   ]
  },
  {
   "cell_type": "markdown",
   "metadata": {},
   "source": [
    "Define the bands for the RGB channels using the common band names"
   ]
  },
  {
   "cell_type": "code",
   "execution_count": 16,
   "metadata": {},
   "outputs": [],
   "source": [
    "bands = ['nir', 'red']"
   ]
  },
  {
   "cell_type": "markdown",
   "metadata": {},
   "source": [
    "Define the input local STAC catalogs"
   ]
  },
  {
   "cell_type": "code",
   "execution_count": 17,
   "metadata": {},
   "outputs": [],
   "source": [
    "channel_inputs = [catalogs[0], \n",
    "                  catalogs[0]]\n",
    "channel_inputs"
   ]
  },
  {
   "cell_type": "code",
   "execution_count": 18,
   "metadata": {},
   "outputs": [],
   "source": [
    "aoi = 'POLYGON((136.707 -35.991,136.707 -35.804,137.071 -35.804,137.071 -35.991,136.707 -35.991))'"
   ]
  },
  {
   "cell_type": "code",
   "execution_count": 19,
   "metadata": {},
   "outputs": [],
   "source": [
    "params = dict()\n",
    "\n",
    "params['channel_inputs'] = channel_inputs\n",
    "params['bands'] = bands\n",
    "params['s_expressions'] = expressions\n",
    "params['aoi'] = aoi\n",
    "params['lut'] = 'viridis'"
   ]
  },
  {
   "cell_type": "code",
   "execution_count": 20,
   "metadata": {},
   "outputs": [
    {
     "name": "stderr",
     "output_type": "stream",
     "text": [
      "2020-11-25T15:12:53 INFO     <Item id=S2B_MSIL2A_20191012T004709_N0213_R102_T53HPA_20191012T023414>\n",
      "2020-11-25T15:12:53 INFO     <Item id=S2B_MSIL2A_20191012T004709_N0213_R102_T53HPA_20191012T023414>\n",
      "2020-11-25T15:13:01 INFO     Rescaling and COG for input assets\n",
      "2020-11-25T15:13:01 INFO     Getting band nir from /vsicurl/https://sentinel-cogs.s3.us-west-2.amazonaws.com/sentinel-s2-l2a-cogs/53/H/PA/2019/10/S2B_53HPA_20191012_0_L2A/B08.tif\n",
      "2020-11-25T15:13:40 INFO     Getting band red from /vsicurl/https://sentinel-cogs.s3.us-west-2.amazonaws.com/sentinel-s2-l2a-cogs/53/H/PA/2019/10/S2B_53HPA_20191012_0_L2A/B04.tif\n",
      "2020-11-25T15:13:43 INFO     Build VRT\n",
      "2020-11-25T15:13:43 INFO     10.0\n",
      "2020-11-25T15:13:43 INFO     Pimp me\n",
      "2020-11-25T15:13:43 INFO     2\n",
      "2020-11-25T15:13:43 INFO     Applying look-up table\n",
      "2020-11-25T15:13:43 INFO     Adding band 1 of 3\n",
      "2020-11-25T15:13:44 INFO     Adding band 2 of 3\n",
      "2020-11-25T15:13:44 INFO     Adding band 3 of 3\n",
      "2020-11-25T15:13:49 INFO     STAC\n",
      "2020-11-25T15:13:49 INFO     Done!\n"
     ]
    }
   ],
   "source": [
    "result = main(**params)"
   ]
  },
  {
   "cell_type": "code",
   "execution_count": 22,
   "metadata": {},
   "outputs": [
    {
     "data": {
      "application/vnd.jupyter.widget-view+json": {
       "model_id": "a538e83af6d9473bae887a912f521e67",
       "version_major": 2,
       "version_minor": 0
      },
      "text/plain": [
       "Map(center=[-35.8975, 136.88900000000004], controls=(ZoomControl(options=['position', 'zoom_in_text', 'zoom_in…"
      ]
     },
     "metadata": {},
     "output_type": "display_data"
    }
   ],
   "source": [
    "item = next(read_file(result).get_items())\n",
    "\n",
    "m = Map(center=(shape(item.geometry).centroid.y, \n",
    "                shape(item.geometry).centroid.x), \n",
    "                zoom=10)\n",
    "\n",
    "image = item_to_img_overlay(item)\n",
    "\n",
    "m.add_layer(image)\n",
    "m"
   ]
  },
  {
   "cell_type": "markdown",
   "metadata": {},
   "source": [
    "### Multitemporal RGB composite"
   ]
  },
  {
   "cell_type": "code",
   "execution_count": 23,
   "metadata": {},
   "outputs": [],
   "source": [
    "expressions = ['(interp v1 (asarray 0 10000) (asarray 0 1))', \n",
    "               '(interp v2 (asarray 0 10000) (asarray 0 1))',\n",
    "               '(interp v3 (asarray 0 10000) (asarray 0 1))']"
   ]
  },
  {
   "cell_type": "markdown",
   "metadata": {},
   "source": [
    "Define the bands for the RGB channels using the common band names"
   ]
  },
  {
   "cell_type": "code",
   "execution_count": 24,
   "metadata": {},
   "outputs": [],
   "source": [
    "bands = ['red', 'green', 'blue']"
   ]
  },
  {
   "cell_type": "markdown",
   "metadata": {},
   "source": [
    "Define the input local STAC catalogs"
   ]
  },
  {
   "cell_type": "code",
   "execution_count": 30,
   "metadata": {},
   "outputs": [],
   "source": [
    "channel_inputs = [catalogs[0], \n",
    "                  catalogs[1],\n",
    "                  catalogs[2]]\n",
    "channel_inputs"
   ]
  },
  {
   "cell_type": "code",
   "execution_count": 31,
   "metadata": {},
   "outputs": [],
   "source": [
    "color = 'Gamma RGB 3.5 Saturation 1.4 Sigmoidal RGB 15 0.45' "
   ]
  },
  {
   "cell_type": "code",
   "execution_count": 32,
   "metadata": {},
   "outputs": [],
   "source": [
    "aoi = 'POLYGON((136.707 -35.991,136.707 -35.804,137.071 -35.804,137.071 -35.991,136.707 -35.991))'"
   ]
  },
  {
   "cell_type": "code",
   "execution_count": 33,
   "metadata": {},
   "outputs": [],
   "source": [
    "params = dict()\n",
    "\n",
    "params['channel_inputs'] = channel_inputs\n",
    "params['bands'] = bands\n",
    "params['s_expressions'] = expressions\n",
    "params['color'] = color\n",
    "params['aoi'] = aoi\n"
   ]
  },
  {
   "cell_type": "code",
   "execution_count": 34,
   "metadata": {},
   "outputs": [
    {
     "name": "stderr",
     "output_type": "stream",
     "text": [
      "2020-11-25T15:19:10 INFO     <Item id=S2B_MSIL2A_20191012T004709_N0213_R102_T53HPA_20191012T023414>\n",
      "2020-11-25T15:19:10 INFO     <Item id=S2B_MSIL2A_20200130T004659_N0213_R102_T53HPA_20200130T022348>\n",
      "2020-11-25T15:19:10 INFO     <Item id=S2B_MSIL2A_20200209T004659_N0214_R102_T53HPA_20200209T022720>\n",
      "2020-11-25T15:19:26 INFO     Rescaling and COG for input assets\n",
      "2020-11-25T15:19:26 INFO     Getting band red from /vsicurl/https://sentinel-cogs.s3.us-west-2.amazonaws.com/sentinel-s2-l2a-cogs/53/H/PA/2019/10/S2B_53HPA_20191012_0_L2A/B04.tif\n",
      "2020-11-25T15:19:26 INFO     Getting band green from /vsicurl/https://sentinel-cogs.s3.us-west-2.amazonaws.com/sentinel-s2-l2a-cogs/53/H/PA/2020/1/S2B_53HPA_20200130_0_L2A/B03.tif\n",
      "2020-11-25T15:20:15 INFO     Getting band blue from /vsicurl/https://sentinel-cogs.s3.us-west-2.amazonaws.com/sentinel-s2-l2a-cogs/53/H/PA/2020/2/S2B_53HPA_20200209_0_L2A/B02.tif\n",
      "2020-11-25T15:21:04 INFO     Build VRT\n",
      "2020-11-25T15:21:04 INFO     10.0\n",
      "2020-11-25T15:21:04 INFO     Pimp me\n",
      "2020-11-25T15:21:04 INFO     3\n",
      "2020-11-25T15:21:04 INFO     Applying color operations: Gamma RGB 3.5 Saturation 1.4 Sigmoidal RGB 15 0.35\n",
      "2020-11-25T15:21:12 INFO     Adding band 1 of 3\n",
      "2020-11-25T15:21:12 INFO     Adding band 2 of 3\n",
      "2020-11-25T15:21:12 INFO     Adding band 3 of 3\n",
      "2020-11-25T15:21:17 INFO     STAC\n",
      "2020-11-25T15:21:17 INFO     Done!\n"
     ]
    }
   ],
   "source": [
    "result = main(**params)"
   ]
  },
  {
   "cell_type": "code",
   "execution_count": 35,
   "metadata": {},
   "outputs": [
    {
     "data": {
      "application/vnd.jupyter.widget-view+json": {
       "model_id": "3ada470175e74002bd25659f7c82d3bf",
       "version_major": 2,
       "version_minor": 0
      },
      "text/plain": [
       "Map(center=[-35.8975, 136.88900000000004], controls=(ZoomControl(options=['position', 'zoom_in_text', 'zoom_in…"
      ]
     },
     "metadata": {},
     "output_type": "display_data"
    }
   ],
   "source": [
    "item = next(read_file(result).get_items())\n",
    "\n",
    "m = Map(center=(shape(item.geometry).centroid.y, \n",
    "                shape(item.geometry).centroid.x), \n",
    "                zoom=10)\n",
    "\n",
    "image = item_to_img_overlay(item)\n",
    "\n",
    "m.add_layer(image)\n",
    "m"
   ]
  },
  {
   "cell_type": "code",
   "execution_count": null,
   "metadata": {},
   "outputs": [],
   "source": []
  }
 ],
 "metadata": {
  "kernelspec": {
   "display_name": "Python [conda env:env_scombi_do]",
   "language": "python",
   "name": "conda-env-env_scombi_do-py"
  },
  "language_info": {
   "codemirror_mode": {
    "name": "ipython",
    "version": 3
   },
   "file_extension": ".py",
   "mimetype": "text/x-python",
   "name": "python",
   "nbconvert_exporter": "python",
   "pygments_lexer": "ipython3",
   "version": "3.7.8"
  }
 },
 "nbformat": 4,
 "nbformat_minor": 4
}
