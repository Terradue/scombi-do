{
 "cells": [
  {
   "cell_type": "markdown",
   "metadata": {},
   "source": [
    "# Simple band combination \n",
    "\n",
    "Creates a simple RGB composite "
   ]
  },
  {
   "cell_type": "markdown",
   "metadata": {},
   "source": [
    "The CWL workflow has four parameters:\n",
    "\n",
    "* input_reference\n",
    "* the common band names for the RGB red, green and blue channels\n",
    "* aoi\n",
    "* color"
   ]
  },
  {
   "cell_type": "code",
   "execution_count": 9,
   "metadata": {},
   "outputs": [],
   "source": [
    "s2_identifier = 'S2B_MSIL2A_20200209T004659_N0214_R102_T53HPA_20200209T022720'"
   ]
  },
  {
   "cell_type": "code",
   "execution_count": 10,
   "metadata": {},
   "outputs": [],
   "source": [
    "input_reference = f'https://terradue-stac.gitlab.io/sentinel-s2-l2a-cogs/53/H/PA/{s2_identifier}/{s2_identifier}.json'"
   ]
  },
  {
   "cell_type": "code",
   "execution_count": 11,
   "metadata": {},
   "outputs": [],
   "source": [
    "bands = ['red', 'green', 'blue']"
   ]
  },
  {
   "cell_type": "code",
   "execution_count": 12,
   "metadata": {},
   "outputs": [],
   "source": [
    "aoi = 'POLYGON((136.707 -35.991,136.707 -35.804,137.071 -35.804,137.071 -35.991,136.707 -35.991))'"
   ]
  },
  {
   "cell_type": "code",
   "execution_count": 13,
   "metadata": {},
   "outputs": [],
   "source": [
    "color = 'Gamma RGB 3.5 Saturation 1.4 Sigmoidal RGB 15 0.45'"
   ]
  },
  {
   "cell_type": "code",
   "execution_count": 24,
   "metadata": {},
   "outputs": [],
   "source": [
    "import os\n",
    "import sys\n",
    "import yaml\n",
    "from shapely.geometry import shape\n",
    "from ipyleaflet import Map\n",
    "from pystac import read_file\n",
    "sys.path.append('../..')\n",
    "from helpers import stage, item_to_img_overlay, my_read_method"
   ]
  },
  {
   "cell_type": "markdown",
   "metadata": {},
   "source": [
    "## Stage-in remote STAC items as a local STAC Catalog"
   ]
  },
  {
   "cell_type": "code",
   "execution_count": 16,
   "metadata": {},
   "outputs": [
    {
     "name": "stdout",
     "output_type": "stream",
     "text": [
      "* <Catalog id=S2B_MSIL2A_20200209T004659_N0214_R102_T53HPA_20200209T022720>\n",
      "  * <Item id=S2B_MSIL2A_20200209T004659_N0214_R102_T53HPA_20200209T022720>\n"
     ]
    }
   ],
   "source": [
    "catalogs = stage([input_reference])"
   ]
  },
  {
   "cell_type": "code",
   "execution_count": 17,
   "metadata": {},
   "outputs": [
    {
     "data": {
      "text/plain": [
       "['/workspace/scombi-do/demo/cwl-workflows/raster/S2B_MSIL2A_20200209T004659_N0214_R102_T53HPA_20200209T022720']"
      ]
     },
     "execution_count": 17,
     "metadata": {},
     "output_type": "execute_result"
    }
   ],
   "source": [
    "catalogs"
   ]
  },
  {
   "cell_type": "markdown",
   "metadata": {},
   "source": [
    "## Update the parameters file for the CWL execution"
   ]
  },
  {
   "cell_type": "code",
   "execution_count": 18,
   "metadata": {},
   "outputs": [],
   "source": [
    "with open(r'scombi-do-raster.yml') as file:\n",
    "    \n",
    "    cwl_params = yaml.load(file, Loader=yaml.FullLoader)"
   ]
  },
  {
   "cell_type": "code",
   "execution_count": 19,
   "metadata": {},
   "outputs": [],
   "source": [
    "cwl_params['input_reference']['path'] = catalogs[0]\n",
    "\n",
    "for index, channel in enumerate(['red-band', 'green-band', 'blue-band']):\n",
    "\n",
    "    cwl_params[channel] = bands[index]\n",
    "    \n",
    "cwl_params['aoi'] = aoi\n",
    "cwl_params['color'] = color"
   ]
  },
  {
   "cell_type": "code",
   "execution_count": 20,
   "metadata": {},
   "outputs": [
    {
     "data": {
      "text/plain": [
       "{'aoi': 'POLYGON((136.707 -35.991,136.707 -35.804,137.071 -35.804,137.071 -35.991,136.707 -35.991))',\n",
       " 'blue-band': 'blue',\n",
       " 'color': 'Gamma RGB 3.5 Saturation 1.4 Sigmoidal RGB 15 0.45',\n",
       " 'green-band': 'green',\n",
       " 'input_reference': {'class': 'Directory',\n",
       "  'path': '/workspace/scombi-do/demo/cwl-workflows/raster/S2B_MSIL2A_20200209T004659_N0214_R102_T53HPA_20200209T022720'},\n",
       " 'red-band': 'red'}"
      ]
     },
     "execution_count": 20,
     "metadata": {},
     "output_type": "execute_result"
    }
   ],
   "source": [
    "cwl_params"
   ]
  },
  {
   "cell_type": "code",
   "execution_count": 21,
   "metadata": {},
   "outputs": [],
   "source": [
    "with open(r'scombi-do-raster.yml', 'w') as file:\n",
    "    params = yaml.dump(cwl_params, file)"
   ]
  },
  {
   "cell_type": "markdown",
   "metadata": {},
   "source": [
    "## Run the CWL document"
   ]
  },
  {
   "cell_type": "markdown",
   "metadata": {},
   "source": [
    "Open a Terminal and run the CWL document with:\n",
    "\n",
    "```console\n",
    "cd /home/jovyan/demo/cwl-workflows/raster\n",
    "cwltool --no-container scombi-do-raster.cwl#scombi-do-raster scombi-do-raster.yml \n",
    "```"
   ]
  },
  {
   "cell_type": "markdown",
   "metadata": {},
   "source": [
    "Use the `demo/cwl-result-viewer.ipynb` Jupyter Notebook to view the results"
   ]
  },
  {
   "cell_type": "markdown",
   "metadata": {},
   "source": [
    "## Inspect the results"
   ]
  },
  {
   "cell_type": "markdown",
   "metadata": {},
   "source": [
    "Paste the CWL execution path returned by the successful run\n",
    "\n",
    "Example:\n",
    "\n",
    "```console\n",
    "...\n",
    "  }\n",
    "        ],\n",
    "        \"path\": \"/home/jovyan/test-workflows/expert-mode/38p2k39r\"\n",
    "    }\n",
    "}\n",
    "INFO Final process status is success\n",
    "```"
   ]
  },
  {
   "cell_type": "code",
   "execution_count": 22,
   "metadata": {},
   "outputs": [],
   "source": [
    "result_dir = '/workspace/scombi-do/demo/cwl-workflows/raster/7z1g_kts'"
   ]
  },
  {
   "cell_type": "code",
   "execution_count": null,
   "metadata": {},
   "outputs": [],
   "source": [
    "item = next(read_file(os.path.join(result_dir, 'catalog.json')).get_items())\n",
    "\n",
    "m = Map(center=(shape(item.geometry).centroid.y, \n",
    "                shape(item.geometry).centroid.x), \n",
    "                zoom=11)\n",
    "\n",
    "image = item_to_img_overlay(item)\n",
    "\n",
    "m.add_layer(image)\n",
    "m"
   ]
  },
  {
   "cell_type": "code",
   "execution_count": null,
   "metadata": {},
   "outputs": [],
   "source": []
  }
 ],
 "metadata": {
  "kernelspec": {
   "display_name": "Python [conda env:env_scombi_do]",
   "language": "python",
   "name": "conda-env-env_scombi_do-py"
  },
  "language_info": {
   "codemirror_mode": {
    "name": "ipython",
    "version": 3
   },
   "file_extension": ".py",
   "mimetype": "text/x-python",
   "name": "python",
   "nbconvert_exporter": "python",
   "pygments_lexer": "ipython3",
   "version": "3.7.8"
  }
 },
 "nbformat": 4,
 "nbformat_minor": 4
}
