{
 "cells": [
  {
   "cell_type": "code",
   "execution_count": 1,
   "metadata": {},
   "outputs": [
    {
     "ename": "ModuleNotFoundError",
     "evalue": "No module named 'pystac'",
     "output_type": "error",
     "traceback": [
      "\u001b[0;31m---------------------------------------------------------------------------\u001b[0m",
      "\u001b[0;31mModuleNotFoundError\u001b[0m                       Traceback (most recent call last)",
      "\u001b[0;32m<ipython-input-1-17a33e288f66>\u001b[0m in \u001b[0;36m<module>\u001b[0;34m\u001b[0m\n\u001b[1;32m      1\u001b[0m \u001b[0;32mimport\u001b[0m \u001b[0myaml\u001b[0m\u001b[0;34m\u001b[0m\u001b[0;34m\u001b[0m\u001b[0m\n\u001b[0;32m----> 2\u001b[0;31m \u001b[0;32mfrom\u001b[0m \u001b[0mpystac\u001b[0m \u001b[0;32mimport\u001b[0m \u001b[0mSTAC_IO\u001b[0m\u001b[0;34m,\u001b[0m \u001b[0mread_file\u001b[0m\u001b[0;34m,\u001b[0m \u001b[0mItem\u001b[0m\u001b[0;34m,\u001b[0m \u001b[0mCatalog\u001b[0m\u001b[0;34m,\u001b[0m \u001b[0mCatalogType\u001b[0m\u001b[0;34m\u001b[0m\u001b[0;34m\u001b[0m\u001b[0m\n\u001b[0m\u001b[1;32m      3\u001b[0m \u001b[0;32mfrom\u001b[0m \u001b[0murllib\u001b[0m\u001b[0;34m.\u001b[0m\u001b[0mparse\u001b[0m \u001b[0;32mimport\u001b[0m \u001b[0murlparse\u001b[0m\u001b[0;34m\u001b[0m\u001b[0;34m\u001b[0m\u001b[0m\n\u001b[1;32m      4\u001b[0m \u001b[0;32mimport\u001b[0m \u001b[0mrequests\u001b[0m\u001b[0;34m\u001b[0m\u001b[0;34m\u001b[0m\u001b[0m\n\u001b[1;32m      5\u001b[0m \u001b[0;32mimport\u001b[0m \u001b[0mos\u001b[0m\u001b[0;34m\u001b[0m\u001b[0;34m\u001b[0m\u001b[0m\n",
      "\u001b[0;31mModuleNotFoundError\u001b[0m: No module named 'pystac'"
     ]
    }
   ],
   "source": [
    "import yaml\n",
    "from pystac import STAC_IO, read_file, Item, Catalog, CatalogType\n",
    "from urllib.parse import urlparse\n",
    "import requests\n",
    "import os"
   ]
  },
  {
   "cell_type": "markdown",
   "metadata": {},
   "source": [
    "## Stage-in remote STAC items as a local STAC Catalog"
   ]
  },
  {
   "cell_type": "code",
   "execution_count": 15,
   "metadata": {},
   "outputs": [],
   "source": [
    "def my_read_method(uri):\n",
    "    \n",
    "    parsed = urlparse(uri)\n",
    "    \n",
    "    if parsed.scheme.startswith('http'):\n",
    "        return requests.get(uri).text\n",
    "    else:\n",
    "        return STAC_IO.default_read_text_method(uri)"
   ]
  },
  {
   "cell_type": "code",
   "execution_count": 16,
   "metadata": {},
   "outputs": [],
   "source": [
    "input_references = ['https://terradue-rtd.gitlab.io/sentinel-s2-l2a-cogs/53/H/PA/S2B_MSIL2A_20200209T004659_N0214_R102_T53HPA_20200209T022720/S2B_MSIL2A_20200209T004659_N0214_R102_T53HPA_20200209T022720.json']"
   ]
  },
  {
   "cell_type": "code",
   "execution_count": 17,
   "metadata": {},
   "outputs": [
    {
     "name": "stderr",
     "output_type": "stream",
     "text": [
      "2020-11-25T16:45:09 DEBUG    Starting new HTTPS connection (1): terradue-rtd.gitlab.io:443\n",
      "2020-11-25T16:45:09 DEBUG    https://terradue-rtd.gitlab.io:443 \"GET /sentinel-s2-l2a-cogs/53/H/PA/S2B_MSIL2A_20191012T004709_N0213_R102_T53HPA_20191012T023414/S2B_MSIL2A_20191012T004709_N0213_R102_T53HPA_20191012T023414.json HTTP/1.1\" 200 17169\n",
      "2020-11-25T16:45:09 DEBUG    Starting new HTTPS connection (1): terradue-rtd.gitlab.io:443\n",
      "2020-11-25T16:45:10 DEBUG    https://terradue-rtd.gitlab.io:443 \"GET /sentinel-s2-l2a-cogs/53/H/PA/S2B_MSIL2A_20200130T004659_N0213_R102_T53HPA_20200130T022348/S2B_MSIL2A_20200130T004659_N0213_R102_T53HPA_20200130T022348.json HTTP/1.1\" 200 17119\n"
     ]
    },
    {
     "name": "stdout",
     "output_type": "stream",
     "text": [
      "* <Catalog id=S2B_MSIL2A_20191012T004709_N0213_R102_T53HPA_20191012T023414>\n",
      "  * <Item id=S2B_MSIL2A_20191012T004709_N0213_R102_T53HPA_20191012T023414>\n"
     ]
    },
    {
     "name": "stderr",
     "output_type": "stream",
     "text": [
      "2020-11-25T16:45:10 DEBUG    Starting new HTTPS connection (1): terradue-rtd.gitlab.io:443\n",
      "2020-11-25T16:45:10 DEBUG    https://terradue-rtd.gitlab.io:443 \"GET /sentinel-s2-l2a-cogs/53/H/PA/S2B_MSIL2A_20200209T004659_N0214_R102_T53HPA_20200209T022720/S2B_MSIL2A_20200209T004659_N0214_R102_T53HPA_20200209T022720.json HTTP/1.1\" 200 17116\n"
     ]
    },
    {
     "name": "stdout",
     "output_type": "stream",
     "text": [
      "* <Catalog id=S2B_MSIL2A_20200130T004659_N0213_R102_T53HPA_20200130T022348>\n",
      "  * <Item id=S2B_MSIL2A_20200130T004659_N0213_R102_T53HPA_20200130T022348>\n",
      "* <Catalog id=S2B_MSIL2A_20200209T004659_N0214_R102_T53HPA_20200209T022720>\n",
      "  * <Item id=S2B_MSIL2A_20200209T004659_N0214_R102_T53HPA_20200209T022720>\n"
     ]
    }
   ],
   "source": [
    "STAC_IO.read_text_method = my_read_method\n",
    "    \n",
    "catalogs = []\n",
    "\n",
    "for index, input_reference in enumerate(input_references):\n",
    "\n",
    "    items = []\n",
    "    \n",
    "    thing = read_file(input_reference)\n",
    "\n",
    "    if isinstance(thing, Item):\n",
    "\n",
    "        items.append(thing)\n",
    "\n",
    "    elif isinstance(thing, Catalog):\n",
    "\n",
    "        for item in thing.get_items():\n",
    "\n",
    "            items.append(item)\n",
    "\n",
    "    # create catalog\n",
    "    catalog = Catalog(id=items[0].id,\n",
    "              description='staged STAC catalog with {}'.format(items[0].id))\n",
    "\n",
    "    catalog.add_items(items)\n",
    "\n",
    "    catalog.normalize_and_save(root_href=items[0].id,\n",
    "                               catalog_type=CatalogType.RELATIVE_PUBLISHED)\n",
    "\n",
    "    catalog.describe()\n",
    "    \n",
    "    catalogs.append(os.path.dirname(catalog.get_self_href()))"
   ]
  },
  {
   "cell_type": "code",
   "execution_count": 18,
   "metadata": {},
   "outputs": [
    {
     "data": {
      "text/plain": [
       "['/home/jovyan/test-workflows/expert-mode/S2B_MSIL2A_20191012T004709_N0213_R102_T53HPA_20191012T023414',\n",
       " '/home/jovyan/test-workflows/expert-mode/S2B_MSIL2A_20200130T004659_N0213_R102_T53HPA_20200130T022348',\n",
       " '/home/jovyan/test-workflows/expert-mode/S2B_MSIL2A_20200209T004659_N0214_R102_T53HPA_20200209T022720']"
      ]
     },
     "execution_count": 18,
     "metadata": {},
     "output_type": "execute_result"
    }
   ],
   "source": [
    "catalogs"
   ]
  },
  {
   "cell_type": "markdown",
   "metadata": {},
   "source": [
    "## Expert mode - multitemporal RGB composite"
   ]
  },
  {
   "cell_type": "code",
   "execution_count": 19,
   "metadata": {},
   "outputs": [],
   "source": [
    "with open(r'scombi-do-raster-dyn.yml') as file:\n",
    "    \n",
    "    cwl_params = yaml.load(file, Loader=yaml.FullLoader)"
   ]
  },
  {
   "cell_type": "code",
   "execution_count": 23,
   "metadata": {},
   "outputs": [
    {
     "data": {
      "text/plain": [
       "{'aoi': 'POLYGON((136.707 -35.991,136.707 -35.804,137.071 -35.804,137.071 -35.991,136.707 -35.991))',\n",
       " 'band_1': 'red',\n",
       " 'band_2': 'green',\n",
       " 'band_3': 'blue',\n",
       " 'color': 'Gamma RGB 3.5 Saturation 1.4 Sigmoidal RGB 15 0.45',\n",
       " 'input_reference_1': {'class': 'Directory',\n",
       "  'path': '/home/jovyan/test-workflows/expert-mode/S2B_MSIL2A_20191012T004709_N0213_R102_T53HPA_20191012T023414'},\n",
       " 'input_reference_2': {'class': 'Directory',\n",
       "  'path': '/home/jovyan/test-workflows/expert-mode/S2B_MSIL2A_20200130T004659_N0213_R102_T53HPA_20200130T022348'},\n",
       " 'input_reference_3': {'class': 'Directory',\n",
       "  'path': '/home/jovyan/test-workflows/expert-mode/S2B_MSIL2A_20200209T004659_N0214_R102_T53HPA_20200209T022720'},\n",
       " 'resolution': 'highest',\n",
       " 's_expression': ['(interp v1 (asarray 0 10000) (asarray 0 1))',\n",
       "  '(interp v2 (asarray 0 10000) (asarray 0 1))',\n",
       "  '(interp v3 (asarray 0 10000) (asarray 0 1))']}"
      ]
     },
     "execution_count": 23,
     "metadata": {},
     "output_type": "execute_result"
    }
   ],
   "source": [
    "cwl_params"
   ]
  },
  {
   "cell_type": "code",
   "execution_count": 24,
   "metadata": {},
   "outputs": [],
   "source": [
    "cwl_params['input_reference_1']['path'] = catalogs[0]\n",
    "cwl_params['input_reference_2']['path'] = catalogs[1]\n",
    "cwl_params['input_reference_3']['path'] = catalogs[2]"
   ]
  },
  {
   "cell_type": "code",
   "execution_count": 25,
   "metadata": {},
   "outputs": [
    {
     "data": {
      "text/plain": [
       "{'aoi': 'POLYGON((136.707 -35.991,136.707 -35.804,137.071 -35.804,137.071 -35.991,136.707 -35.991))',\n",
       " 'band_1': 'red',\n",
       " 'band_2': 'green',\n",
       " 'band_3': 'blue',\n",
       " 'color': 'Gamma RGB 3.5 Saturation 1.4 Sigmoidal RGB 15 0.45',\n",
       " 'input_reference_1': {'class': 'Directory',\n",
       "  'path': '/home/jovyan/test-workflows/expert-mode/S2B_MSIL2A_20191012T004709_N0213_R102_T53HPA_20191012T023414'},\n",
       " 'input_reference_2': {'class': 'Directory',\n",
       "  'path': '/home/jovyan/test-workflows/expert-mode/S2B_MSIL2A_20200130T004659_N0213_R102_T53HPA_20200130T022348'},\n",
       " 'input_reference_3': {'class': 'Directory',\n",
       "  'path': '/home/jovyan/test-workflows/expert-mode/S2B_MSIL2A_20200209T004659_N0214_R102_T53HPA_20200209T022720'},\n",
       " 'resolution': 'highest',\n",
       " 's_expression': ['(interp v1 (asarray 0 10000) (asarray 0 1))',\n",
       "  '(interp v2 (asarray 0 10000) (asarray 0 1))',\n",
       "  '(interp v3 (asarray 0 10000) (asarray 0 1))']}"
      ]
     },
     "execution_count": 25,
     "metadata": {},
     "output_type": "execute_result"
    }
   ],
   "source": [
    "cwl_params"
   ]
  },
  {
   "cell_type": "code",
   "execution_count": 26,
   "metadata": {},
   "outputs": [],
   "source": [
    "with open(r'scombi-do-expert-mt-raster.yml', 'w') as file:\n",
    "    params = yaml.dump(cwl_params, file)"
   ]
  },
  {
   "cell_type": "markdown",
   "metadata": {},
   "source": [
    "Open a Terminal and run the CWL document with:\n",
    "\n",
    "```console\n",
    "cd /home/jovyan/test-workflows/expert-mode\n",
    "cwltool --no-container scombi-do-expert.cwl#expert scombi-do-expert-mt-raster.yml \n",
    "```"
   ]
  },
  {
   "cell_type": "markdown",
   "metadata": {},
   "source": [
    "Use the `demo/cwl-result-viewer.ipynb` Jupyter Notebook to view the results"
   ]
  },
  {
   "cell_type": "code",
   "execution_count": null,
   "metadata": {},
   "outputs": [],
   "source": []
  }
 ],
 "metadata": {
  "kernelspec": {
   "display_name": "Python 3",
   "language": "python",
   "name": "python3"
  },
  "language_info": {
   "codemirror_mode": {
    "name": "ipython",
    "version": 3
   },
   "file_extension": ".py",
   "mimetype": "text/x-python",
   "name": "python",
   "nbconvert_exporter": "python",
   "pygments_lexer": "ipython3",
   "version": "3.7.8"
  }
 },
 "nbformat": 4,
 "nbformat_minor": 4
}
